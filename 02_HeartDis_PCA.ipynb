{
 "cells": [
  {
   "cell_type": "code",
   "execution_count": 14,
   "metadata": {},
   "outputs": [],
   "source": [
    "import numpy as np\n",
    "import pandas as pd\n",
    "import matplotlib.pyplot as plt\n",
    "from sklearn.decomposition import PCA\n",
    "from sklearn.preprocessing import StandardScaler\n",
    "import os\n",
    "import seaborn as sns"
   ]
  },
  {
   "cell_type": "code",
   "execution_count": 4,
   "metadata": {},
   "outputs": [
    {
     "data": {
      "text/plain": [
       "(303, 23)"
      ]
     },
     "execution_count": 4,
     "metadata": {},
     "output_type": "execute_result"
    }
   ],
   "source": [
    "Name=\"Heart_wCatFeatures.csv\"\n",
    "path=\"/home/samsung-ub/Desktop/Pyhton/Datasets/\"\n",
    "dataNameandPath = os.path.join(\"r\",path, Name)\n",
    "df = pd.read_csv(\"../Datasets/\"+Name)\n",
    "df.shape"
   ]
  },
  {
   "cell_type": "code",
   "execution_count": 5,
   "metadata": {},
   "outputs": [],
   "source": [
    "features=df.columns.tolist()\n",
    "x = df.loc[:, features].values\n",
    "y = df.loc[:, \"target\"].values"
   ]
  },
  {
   "cell_type": "markdown",
   "metadata": {},
   "source": [
    "## Standardize features by removing the mean and scaling to unit variance"
   ]
  },
  {
   "cell_type": "code",
   "execution_count": 6,
   "metadata": {},
   "outputs": [],
   "source": [
    "xS = StandardScaler().fit_transform(x)"
   ]
  },
  {
   "cell_type": "markdown",
   "metadata": {},
   "source": [
    "## PCA with 2 components"
   ]
  },
  {
   "cell_type": "code",
   "execution_count": 8,
   "metadata": {},
   "outputs": [
    {
     "name": "stdout",
     "output_type": "stream",
     "text": [
      "[0.22833166 0.07905451]\n",
      "2\n",
      "PCA(copy=True, iterated_power='auto', n_components=2, random_state=None,\n",
      "    svd_solver='auto', tol=0.0, whiten=False)\n"
     ]
    }
   ],
   "source": [
    "pca = PCA(n_components=2)\n",
    "X_wPCA_2 = pca.fit_transform(xS)\n",
    "X_approx_2 = pca.inverse_transform(X_wPCA_2)\n",
    "print(pca.explained_variance_ratio_)\n",
    "print(pca.n_components_)\n",
    "print(pca)"
   ]
  },
  {
   "cell_type": "code",
   "execution_count": 9,
   "metadata": {},
   "outputs": [
    {
     "name": "stdout",
     "output_type": "stream",
     "text": [
      "Principal Components Shape (2, 23)\n",
      "original shape:    (303, 23)\n",
      "transformed shape: (303, 2)\n",
      "Inverse - transformed shape: (303, 23)\n"
     ]
    }
   ],
   "source": [
    "print(\"Principal Components Shape\", pca.components_.shape)\n",
    "print(\"original shape:   \", xS.shape)\n",
    "print(\"transformed shape:\", X_wPCA_2.shape)\n",
    "print(\"Inverse - transformed shape:\",X_approx_2.shape)"
   ]
  },
  {
   "cell_type": "code",
   "execution_count": 10,
   "metadata": {
    "collapsed": true
   },
   "outputs": [
    {
     "data": {
      "text/html": [
       "<div>\n",
       "<style scoped>\n",
       "    .dataframe tbody tr th:only-of-type {\n",
       "        vertical-align: middle;\n",
       "    }\n",
       "\n",
       "    .dataframe tbody tr th {\n",
       "        vertical-align: top;\n",
       "    }\n",
       "\n",
       "    .dataframe thead th {\n",
       "        text-align: right;\n",
       "    }\n",
       "</style>\n",
       "<table border=\"1\" class=\"dataframe\">\n",
       "  <thead>\n",
       "    <tr style=\"text-align: right;\">\n",
       "      <th></th>\n",
       "      <th>PC_1</th>\n",
       "      <th>PC_2</th>\n",
       "    </tr>\n",
       "  </thead>\n",
       "  <tbody>\n",
       "    <tr>\n",
       "      <td>0</td>\n",
       "      <td>0.084161</td>\n",
       "      <td>2.976310</td>\n",
       "    </tr>\n",
       "    <tr>\n",
       "      <td>1</td>\n",
       "      <td>-2.109573</td>\n",
       "      <td>1.094655</td>\n",
       "    </tr>\n",
       "    <tr>\n",
       "      <td>2</td>\n",
       "      <td>-3.386110</td>\n",
       "      <td>-0.412714</td>\n",
       "    </tr>\n",
       "    <tr>\n",
       "      <td>3</td>\n",
       "      <td>-3.225759</td>\n",
       "      <td>-1.085305</td>\n",
       "    </tr>\n",
       "    <tr>\n",
       "      <td>4</td>\n",
       "      <td>-1.657995</td>\n",
       "      <td>0.205842</td>\n",
       "    </tr>\n",
       "    <tr>\n",
       "      <td>...</td>\n",
       "      <td>...</td>\n",
       "      <td>...</td>\n",
       "    </tr>\n",
       "    <tr>\n",
       "      <td>298</td>\n",
       "      <td>2.813615</td>\n",
       "      <td>-0.337088</td>\n",
       "    </tr>\n",
       "    <tr>\n",
       "      <td>299</td>\n",
       "      <td>1.664545</td>\n",
       "      <td>-0.661107</td>\n",
       "    </tr>\n",
       "    <tr>\n",
       "      <td>300</td>\n",
       "      <td>3.663477</td>\n",
       "      <td>0.270013</td>\n",
       "    </tr>\n",
       "    <tr>\n",
       "      <td>301</td>\n",
       "      <td>3.450126</td>\n",
       "      <td>-1.439604</td>\n",
       "    </tr>\n",
       "    <tr>\n",
       "      <td>302</td>\n",
       "      <td>-0.329483</td>\n",
       "      <td>0.413965</td>\n",
       "    </tr>\n",
       "  </tbody>\n",
       "</table>\n",
       "<p>303 rows × 2 columns</p>\n",
       "</div>"
      ],
      "text/plain": [
       "         PC_1      PC_2\n",
       "0    0.084161  2.976310\n",
       "1   -2.109573  1.094655\n",
       "2   -3.386110 -0.412714\n",
       "3   -3.225759 -1.085305\n",
       "4   -1.657995  0.205842\n",
       "..        ...       ...\n",
       "298  2.813615 -0.337088\n",
       "299  1.664545 -0.661107\n",
       "300  3.663477  0.270013\n",
       "301  3.450126 -1.439604\n",
       "302 -0.329483  0.413965\n",
       "\n",
       "[303 rows x 2 columns]"
      ]
     },
     "execution_count": 10,
     "metadata": {},
     "output_type": "execute_result"
    }
   ],
   "source": [
    "principalDf = pd.DataFrame(data = X_wPCA_2\n",
    "             , columns = ['PC_1', 'PC_2'])\n",
    "principalDf"
   ]
  },
  {
   "cell_type": "code",
   "execution_count": 11,
   "metadata": {},
   "outputs": [
    {
     "data": {
      "text/html": [
       "<div>\n",
       "<style scoped>\n",
       "    .dataframe tbody tr th:only-of-type {\n",
       "        vertical-align: middle;\n",
       "    }\n",
       "\n",
       "    .dataframe tbody tr th {\n",
       "        vertical-align: top;\n",
       "    }\n",
       "\n",
       "    .dataframe thead th {\n",
       "        text-align: right;\n",
       "    }\n",
       "</style>\n",
       "<table border=\"1\" class=\"dataframe\">\n",
       "  <thead>\n",
       "    <tr style=\"text-align: right;\">\n",
       "      <th></th>\n",
       "      <th>PC_1</th>\n",
       "      <th>PC_2</th>\n",
       "      <th>target</th>\n",
       "    </tr>\n",
       "  </thead>\n",
       "  <tbody>\n",
       "    <tr>\n",
       "      <td>0</td>\n",
       "      <td>0.084161</td>\n",
       "      <td>2.976310</td>\n",
       "      <td>1</td>\n",
       "    </tr>\n",
       "    <tr>\n",
       "      <td>1</td>\n",
       "      <td>-2.109573</td>\n",
       "      <td>1.094655</td>\n",
       "      <td>1</td>\n",
       "    </tr>\n",
       "    <tr>\n",
       "      <td>2</td>\n",
       "      <td>-3.386110</td>\n",
       "      <td>-0.412714</td>\n",
       "      <td>1</td>\n",
       "    </tr>\n",
       "    <tr>\n",
       "      <td>3</td>\n",
       "      <td>-3.225759</td>\n",
       "      <td>-1.085305</td>\n",
       "      <td>1</td>\n",
       "    </tr>\n",
       "    <tr>\n",
       "      <td>4</td>\n",
       "      <td>-1.657995</td>\n",
       "      <td>0.205842</td>\n",
       "      <td>1</td>\n",
       "    </tr>\n",
       "  </tbody>\n",
       "</table>\n",
       "</div>"
      ],
      "text/plain": [
       "       PC_1      PC_2  target\n",
       "0  0.084161  2.976310       1\n",
       "1 -2.109573  1.094655       1\n",
       "2 -3.386110 -0.412714       1\n",
       "3 -3.225759 -1.085305       1\n",
       "4 -1.657995  0.205842       1"
      ]
     },
     "execution_count": 11,
     "metadata": {},
     "output_type": "execute_result"
    }
   ],
   "source": [
    "finalDf = pd.concat([principalDf, df[['target']]], axis = 1)\n",
    "finalDf.head(5)"
   ]
  },
  {
   "cell_type": "code",
   "execution_count": 12,
   "metadata": {},
   "outputs": [],
   "source": [
    "xx=finalDf[\"PC_1\"]\n",
    "yy=finalDf[\"PC_2\"]\n",
    "labels = finalDf[\"target\"]\n",
    "#labels=labels.astype(int)\n",
    "xxp=xx[labels==1]\n",
    "yyp=yy[labels==1]\n",
    "xxz=xx[labels==0]\n",
    "yyz=yy[labels==0]"
   ]
  },
  {
   "cell_type": "code",
   "execution_count": 15,
   "metadata": {},
   "outputs": [
    {
     "data": {
      "image/png": "[encoded data removed]",
      "text/plain": [
       "<Figure size 432x288 with 1 Axes>"
      ]
     },
     "metadata": {
      "needs_background": "light"
     },
     "output_type": "display_data"
    }
   ],
   "source": [
    "sns.regplot(xxp, yyp, fit_reg=False, scatter_kws={\"color\":\"darkred\",\"alpha\":0.3,\"s\":50} )\n",
    "sns.regplot(xxz, yyz, fit_reg=False, scatter_kws={\"color\":\"darkblue\",\"alpha\":0.3,\"s\":50} )\n",
    "plt.xlabel('Principal Component 1')\n",
    "plt.ylabel('Principal Component 2')\n",
    "title=\"2 Components\"\n",
    "plt.title(title)\n",
    "plt.legend([\"Disease +\", \"Disease -\"])\n",
    "plt.show()"
   ]
  },
  {
   "cell_type": "markdown",
   "metadata": {},
   "source": [
    "## PCA with predefined variance ratio"
   ]
  },
  {
   "cell_type": "code",
   "execution_count": 22,
   "metadata": {},
   "outputs": [],
   "source": [
    "pcaVarDef = PCA(.99)\n",
    "X_wPCA = pcaVarDef.fit_transform(xS)"
   ]
  },
  {
   "cell_type": "code",
   "execution_count": 23,
   "metadata": {},
   "outputs": [
    {
     "name": "stdout",
     "output_type": "stream",
     "text": [
      "PCA(copy=True, iterated_power='auto', n_components=0.99, random_state=None,\n",
      "    svd_solver='auto', tol=0.0, whiten=False)\n",
      "[0.22833166 0.07905451 0.07115047 0.0652904  0.05928106 0.05356596\n",
      " 0.05284083 0.04752287 0.04450721 0.04168542 0.03902156 0.0350721\n",
      " 0.0340558  0.03181292 0.02928879 0.02527423 0.02229347 0.01780796\n",
      " 0.01749897]\n",
      "19\n",
      "(303, 19)\n"
     ]
    }
   ],
   "source": [
    "print(pcaVarDef)\n",
    "print(pcaVarDef.explained_variance_ratio_)\n",
    "print(pcaVarDef.n_components_)\n",
    "print(X_wPCA.shape)"
   ]
  },
  {
   "cell_type": "code",
   "execution_count": 24,
   "metadata": {},
   "outputs": [],
   "source": [
    "X_approx = pcaVarDef.inverse_transform(X_wPCA)"
   ]
  },
  {
   "cell_type": "code",
   "execution_count": 25,
   "metadata": {
    "scrolled": true
   },
   "outputs": [
    {
     "name": "stdout",
     "output_type": "stream",
     "text": [
      "Principal Components Shape (19, 23)\n",
      "original shape:    (303, 23)\n",
      "transformed shape: (303, 19)\n",
      "Inverse - transformed shape: (303, 23)\n"
     ]
    },
    {
     "data": {
      "text/plain": [
       "'\\nThe main purpose of PCA is dimension reduction.\\nInverse transormation takes princ compts to\\noriginal dimension. \\nSo inverse transormation is used in image noise reduction\\n'"
      ]
     },
     "execution_count": 25,
     "metadata": {},
     "output_type": "execute_result"
    }
   ],
   "source": [
    "print(\"Principal Components Shape\", pcaVarDef.components_.shape)\n",
    "print(\"original shape:   \", xS.shape)\n",
    "print(\"transformed shape:\", X_wPCA.shape)\n",
    "print(\"Inverse - transformed shape:\",X_approx.shape)\n",
    "\"\"\"\n",
    "The main purpose of PCA is dimension reduction.\n",
    "Inverse transormation takes princ compts to\n",
    "original dimension. \n",
    "So inverse transormation is used in image noise reduction\n",
    "\"\"\""
   ]
  },
  {
   "cell_type": "code",
   "execution_count": 26,
   "metadata": {
    "scrolled": true
   },
   "outputs": [
    {
     "data": {
      "text/plain": [
       "<matplotlib.legend.Legend at 0x7f57b9260d90>"
      ]
     },
     "execution_count": 26,
     "metadata": {},
     "output_type": "execute_result"
    },
    {
     "data": {
      "image/png": "[encoded data removed]",
      "text/plain": [
       "<Figure size 432x288 with 1 Axes>"
      ]
     },
     "metadata": {
      "needs_background": "light"
     },
     "output_type": "display_data"
    }
   ],
   "source": [
    "plt.plot(np.cumsum(pcaVarDef.explained_variance_ratio_))\n",
    "plt.xlabel('number of components')\n",
    "plt.ylabel('Cumulative Explained variance')\n",
    "plt.title('Cumulative Explained Variance as a Function of the Number of Components')\n",
    "\n",
    "plt.axhline(y = .95, color='k', linestyle='--', label = '95% Explained Variance')\n",
    "plt.axhline(y = .90, color='c', linestyle='--', label = '90% Explained Variance')\n",
    "plt.axhline(y = .85, color='r', linestyle='--', label = '85% Explained Variance')\n",
    "plt.legend(loc='best')"
   ]
  },
  {
   "cell_type": "code",
   "execution_count": 112,
   "metadata": {
    "collapsed": true
   },
   "outputs": [
    {
     "name": "stdout",
     "output_type": "stream",
     "text": [
      "PC_1\n",
      "PC_2\n",
      "PC_3\n",
      "PC_4\n",
      "PC_5\n",
      "PC_6\n",
      "PC_7\n",
      "PC_8\n",
      "PC_9\n",
      "PC_10\n",
      "PC_11\n",
      "PC_12\n",
      "PC_13\n",
      "PC_14\n",
      "PC_15\n",
      "PC_16\n",
      "PC_17\n",
      "PC_18\n",
      "PC_19\n"
     ]
    }
   ],
   "source": [
    "list=[]\n",
    "for i in range(0,X_wPCA.shape[1]):\n",
    "    colN=\"PC_\"+str(i+1)\n",
    "    list.append(colN)\n",
    "    print(colN)"
   ]
  },
  {
   "cell_type": "code",
   "execution_count": 117,
   "metadata": {},
   "outputs": [
    {
     "data": {
      "text/plain": [
       "Index(['PC_1', 'PC_2', 'PC_3', 'PC_4', 'PC_5', 'PC_6', 'PC_7', 'PC_8', 'PC_9',\n",
       "       'PC_10', 'PC_11', 'PC_12', 'PC_13', 'PC_14', 'PC_15', 'PC_16', 'PC_17',\n",
       "       'PC_18', 'PC_19', 'target'],\n",
       "      dtype='object')"
      ]
     },
     "execution_count": 117,
     "metadata": {},
     "output_type": "execute_result"
    }
   ],
   "source": [
    "df1 = pd.DataFrame(data = X_wPCA\n",
    "             , columns = list)\n",
    "df_final = pd.concat([df1, df[['target']]], axis = 1)\n",
    "\n",
    "df_final.columns\n",
    "    "
   ]
  },
  {
   "cell_type": "code",
   "execution_count": 118,
   "metadata": {
    "scrolled": true
   },
   "outputs": [],
   "source": [
    "Name=\"Heart19featureAfterPCA.csv\"\n",
    "path=\"/home/samsung-ub/Desktop/Pyhton/Datasets/\"\n",
    "toWrite = os.path.join(\"r\",path, Name)\n",
    "df_final.to_csv(toWrite)"
   ]
  }
 ],
 "metadata": {
  "kernelspec": {
   "display_name": "Python 3",
   "language": "python",
   "name": "python3"
  },
  "language_info": {
   "codemirror_mode": {
    "name": "ipython",
    "version": 3
   },
   "file_extension": ".py",
   "mimetype": "text/x-python",
   "name": "python",
   "nbconvert_exporter": "python",
   "pygments_lexer": "ipython3",
   "version": "3.7.5"
  }
 },
 "nbformat": 4,
 "nbformat_minor": 2
}
